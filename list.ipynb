{
 "cells": [
  {
   "cell_type": "code",
   "execution_count": 1,
   "metadata": {},
   "outputs": [
    {
     "name": "stdout",
     "output_type": "stream",
     "text": [
      "Empty List\n",
      "[]\n"
     ]
    }
   ],
   "source": [
    "list=[]\n",
    "print('Empty List')\n",
    "print(list)"
   ]
  },
  {
   "cell_type": "code",
   "execution_count": 7,
   "metadata": {},
   "outputs": [
    {
     "name": "stdout",
     "output_type": "stream",
     "text": [
      "list containing numbers\n",
      "[10, 20, 30, 40]\n",
      "list containing string\n",
      "['Potential', 'Energy', 'transformation']\n",
      "lit containing multiple types elements\n",
      "[1, 2, 3, 'Customised', 4, 5, 'GUI']\n",
      "list conatining list of lists\n",
      "[1, 2, 3, [4, 5, 6]]\n"
     ]
    }
   ],
   "source": [
    "list1=[10,20,30,40]\n",
    "print(\"list containing numbers\")\n",
    "print(list1)\n",
    "\n",
    "list1=['Potential','Energy','transformation']\n",
    "print('list containing string')\n",
    "print(list1)\n",
    "\n",
    "list1=[1,2,3,'Customised',4,5,'GUI']\n",
    "print('lit containing multiple types elements')\n",
    "print(list1)\n",
    "\n",
    "\n",
    "list1=[1,2,3,[4,5,6]]\n",
    "print('list conatining list of lists')\n",
    "print(list1)\n",
    "\n"
   ]
  },
  {
   "cell_type": "code",
   "execution_count": 9,
   "metadata": {},
   "outputs": [
    {
     "name": "stdout",
     "output_type": "stream",
     "text": [
      "list with duplicate elements\n",
      "[1, 2, 2, 3, 4, 5, 4]\n",
      "length of the list is\n",
      "7\n"
     ]
    }
   ],
   "source": [
    "#list with Duplicate elements\n",
    "\n",
    "list1=[1,2,2,3,4,5,4]\n",
    "print('list with duplicate elements')\n",
    "print(list1)\n",
    "print(\"length of the list is\")\n",
    "print(len(list1))"
   ]
  },
  {
   "cell_type": "code",
   "execution_count": 18,
   "metadata": {},
   "outputs": [
    {
     "name": "stdout",
     "output_type": "stream",
     "text": [
      "[]\n",
      "List after appending elements\n",
      "\n",
      "[5, 6, 7]\n",
      "[5, 6, 7, 1, 2, 3, 4, (5, 6)]\n",
      "[5, 6, 7, 1, 2, 3, 4, (5, 6), [1, 2]]\n"
     ]
    }
   ],
   "source": [
    "List=[]\n",
    "print(List)\n",
    "List.append(5)\n",
    "List.append(6)\n",
    "List.append(7)\n",
    "print(\"List after appending elements\\n\")\n",
    "print(List)\n",
    "\n",
    "for i in range (1,5):\n",
    "    List.append(i)\n",
    "\n",
    "List.append((5,6))   \n",
    "print(List) \n",
    "\n",
    "List.append([1,2])\n",
    "print(List)"
   ]
  },
  {
   "cell_type": "code",
   "execution_count": 23,
   "metadata": {},
   "outputs": [
    {
     "name": "stdout",
     "output_type": "stream",
     "text": [
      "Printing list element\n",
      "[1, 2, 3, 4]\n",
      "Printing list after inserting the element\n",
      "[1, 5, 2, 3, 4]\n",
      "Printing list after inserting string\n",
      "['python', 1, 5, 2, 3, 4]\n"
     ]
    }
   ],
   "source": [
    "#insert operation\n",
    "\n",
    "List=[1,2,3,4]\n",
    "print(\"Printing list element\")\n",
    "print(List)\n",
    "List.insert(1,5)\n",
    "print(\"Printing list after inserting the element\")\n",
    "print(List)\n",
    "\n",
    "List.insert(0,'python')\n",
    "print(\"Printing list after inserting string\")\n",
    "print(List)\n"
   ]
  },
  {
   "cell_type": "code",
   "execution_count": 27,
   "metadata": {},
   "outputs": [
    {
     "name": "stdout",
     "output_type": "stream",
     "text": [
      "Printing list element\n",
      "[1, 2, 3, 4]\n",
      "printing elements after extending the list\n",
      "[1, 2, 3, 4, 8, 'hii', 'hallo', 8, 'hii', 'hallo']\n"
     ]
    }
   ],
   "source": [
    "List=[1,2,3,4]\n",
    "print(\"Printing list element\")\n",
    "print(List)\n",
    "\n",
    "List.extend((8,'hii','hallo'))\n",
    "List.extend([8,'hii','hallo'])\n",
    "print(\"printing elements after extending the list\")\n",
    "print(List)"
   ]
  },
  {
   "cell_type": "code",
   "execution_count": 30,
   "metadata": {},
   "outputs": [
    {
     "name": "stdout",
     "output_type": "stream",
     "text": [
      "[1, 2, 3]\n",
      "[1, 3]\n"
     ]
    }
   ],
   "source": [
    "List=[1,2,3,4]\n",
    "List.pop()\n",
    "#removes an element from the end of the List\n",
    "print(List)\n",
    "\n",
    "List.pop(1)\n",
    "#removes element from the particular list\n",
    "print(List)\n"
   ]
  },
  {
   "cell_type": "code",
   "execution_count": 33,
   "metadata": {},
   "outputs": [
    {
     "name": "stdout",
     "output_type": "stream",
     "text": [
      "['a', 'i', 'u']\n",
      "['a', 'e', 'i', 'o', 'u', 'b', 'd', 'm']\n"
     ]
    }
   ],
   "source": [
    "#slicing of List\n",
    "List=['a','e','i','o','u','b','d','m']\n",
    "print(List[0:5:2])\n",
    "sliced_list=List[:]\n",
    "print(sliced_list)"
   ]
  },
  {
   "cell_type": "code",
   "execution_count": 42,
   "metadata": {},
   "outputs": [
    {
     "name": "stdout",
     "output_type": "stream",
     "text": [
      "printing elemnts in Reverse order\n",
      "['h', 'g', 'f', 'e', 'd', 'c', 'b', 'a']\n",
      "['c', 'd', 'e', 'f', 'g']\n"
     ]
    }
   ],
   "source": [
    "List=['a','b','c','d','e','f','g','h']\n",
    "sliced_list=List[::-1]\n",
    "print(\"printing elemnts in Reverse order\")\n",
    "print(sliced_list)\n",
    "\n",
    "sliced_list=List[-6:-1]\n",
    "print(sliced_list)"
   ]
  },
  {
   "cell_type": "code",
   "execution_count": null,
   "metadata": {},
   "outputs": [],
   "source": []
  }
 ],
 "metadata": {
  "kernelspec": {
   "display_name": "Python 3",
   "language": "python",
   "name": "python3"
  },
  "language_info": {
   "codemirror_mode": {
    "name": "ipython",
    "version": 3
   },
   "file_extension": ".py",
   "mimetype": "text/x-python",
   "name": "python",
   "nbconvert_exporter": "python",
   "pygments_lexer": "ipython3",
   "version": "3.8.3"
  }
 },
 "nbformat": 4,
 "nbformat_minor": 4
}
